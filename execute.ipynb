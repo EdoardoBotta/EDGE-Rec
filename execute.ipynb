{
 "cells": [
  {
   "cell_type": "code",
   "execution_count": 1,
   "metadata": {
    "collapsed": true,
    "ExecuteTime": {
     "end_time": "2024-04-27T06:39:40.795326Z",
     "start_time": "2024-04-27T06:39:38.751398Z"
    }
   },
   "outputs": [
    {
     "name": "stdout",
     "output_type": "stream",
     "text": [
      "Found existing installation: edge-rec 0.0.0\r\n",
      "Not uninstalling edge-rec at /Users/up/Desktop/CMU/Courses/10-708/project, outside environment /Users/up/Desktop/CMU/Courses/10-708/project/venv\r\n",
      "Can't uninstall 'edge-rec'. No files were found to uninstall.\r\n",
      "Obtaining file:///Users/up/Desktop/CMU/Courses/10-708/project\r\n",
      "  Preparing metadata (setup.py) ... \u001B[?25ldone\r\n",
      "\u001B[?25hRequirement already satisfied: accelerate in ./venv/lib/python3.9/site-packages (from edge-rec==0.0.0) (0.29.3)\r\n",
      "Requirement already satisfied: einops in ./venv/lib/python3.9/site-packages (from edge-rec==0.0.0) (0.7.0)\r\n",
      "Requirement already satisfied: ema-pytorch>=0.4.2 in ./venv/lib/python3.9/site-packages (from edge-rec==0.0.0) (0.4.5)\r\n",
      "Requirement already satisfied: numpy in ./venv/lib/python3.9/site-packages (from edge-rec==0.0.0) (1.26.4)\r\n",
      "Requirement already satisfied: pillow in ./venv/lib/python3.9/site-packages (from edge-rec==0.0.0) (10.3.0)\r\n",
      "Requirement already satisfied: packaging in ./venv/lib/python3.9/site-packages (from edge-rec==0.0.0) (24.0)\r\n",
      "Requirement already satisfied: torch in ./venv/lib/python3.9/site-packages (from edge-rec==0.0.0) (2.3.0)\r\n",
      "Requirement already satisfied: torchvision in ./venv/lib/python3.9/site-packages (from edge-rec==0.0.0) (0.18.0)\r\n",
      "Requirement already satisfied: tqdm in ./venv/lib/python3.9/site-packages (from edge-rec==0.0.0) (4.66.2)\r\n",
      "Requirement already satisfied: torch_geometric in ./venv/lib/python3.9/site-packages (from edge-rec==0.0.0) (2.5.3)\r\n",
      "Requirement already satisfied: scikit-learn in ./venv/lib/python3.9/site-packages (from edge-rec==0.0.0) (1.4.2)\r\n",
      "Requirement already satisfied: pandas in ./venv/lib/python3.9/site-packages (from edge-rec==0.0.0) (2.2.2)\r\n",
      "Requirement already satisfied: beartype in ./venv/lib/python3.9/site-packages (from ema-pytorch>=0.4.2->edge-rec==0.0.0) (0.18.5)\r\n",
      "Requirement already satisfied: networkx in ./venv/lib/python3.9/site-packages (from torch->edge-rec==0.0.0) (3.2.1)\r\n",
      "Requirement already satisfied: typing-extensions>=4.8.0 in ./venv/lib/python3.9/site-packages (from torch->edge-rec==0.0.0) (4.11.0)\r\n",
      "Requirement already satisfied: fsspec in ./venv/lib/python3.9/site-packages (from torch->edge-rec==0.0.0) (2024.3.1)\r\n",
      "Requirement already satisfied: sympy in ./venv/lib/python3.9/site-packages (from torch->edge-rec==0.0.0) (1.12)\r\n",
      "Requirement already satisfied: filelock in ./venv/lib/python3.9/site-packages (from torch->edge-rec==0.0.0) (3.13.4)\r\n",
      "Requirement already satisfied: jinja2 in ./venv/lib/python3.9/site-packages (from torch->edge-rec==0.0.0) (3.1.3)\r\n",
      "Requirement already satisfied: pyyaml in ./venv/lib/python3.9/site-packages (from accelerate->edge-rec==0.0.0) (6.0.1)\r\n",
      "Requirement already satisfied: psutil in ./venv/lib/python3.9/site-packages (from accelerate->edge-rec==0.0.0) (5.9.8)\r\n",
      "Requirement already satisfied: huggingface-hub in ./venv/lib/python3.9/site-packages (from accelerate->edge-rec==0.0.0) (0.22.2)\r\n",
      "Requirement already satisfied: safetensors>=0.3.1 in ./venv/lib/python3.9/site-packages (from accelerate->edge-rec==0.0.0) (0.4.3)\r\n",
      "Requirement already satisfied: pytz>=2020.1 in ./venv/lib/python3.9/site-packages (from pandas->edge-rec==0.0.0) (2024.1)\r\n",
      "Requirement already satisfied: tzdata>=2022.7 in ./venv/lib/python3.9/site-packages (from pandas->edge-rec==0.0.0) (2024.1)\r\n",
      "Requirement already satisfied: python-dateutil>=2.8.2 in ./venv/lib/python3.9/site-packages (from pandas->edge-rec==0.0.0) (2.9.0.post0)\r\n",
      "Requirement already satisfied: threadpoolctl>=2.0.0 in ./venv/lib/python3.9/site-packages (from scikit-learn->edge-rec==0.0.0) (3.4.0)\r\n",
      "Requirement already satisfied: scipy>=1.6.0 in ./venv/lib/python3.9/site-packages (from scikit-learn->edge-rec==0.0.0) (1.13.0)\r\n",
      "Requirement already satisfied: joblib>=1.2.0 in ./venv/lib/python3.9/site-packages (from scikit-learn->edge-rec==0.0.0) (1.4.0)\r\n",
      "Requirement already satisfied: requests in ./venv/lib/python3.9/site-packages (from torch_geometric->edge-rec==0.0.0) (2.31.0)\r\n",
      "Requirement already satisfied: aiohttp in ./venv/lib/python3.9/site-packages (from torch_geometric->edge-rec==0.0.0) (3.9.5)\r\n",
      "Requirement already satisfied: pyparsing in ./venv/lib/python3.9/site-packages (from torch_geometric->edge-rec==0.0.0) (3.1.2)\r\n",
      "Requirement already satisfied: six>=1.5 in ./venv/lib/python3.9/site-packages (from python-dateutil>=2.8.2->pandas->edge-rec==0.0.0) (1.16.0)\r\n",
      "Requirement already satisfied: yarl<2.0,>=1.0 in ./venv/lib/python3.9/site-packages (from aiohttp->torch_geometric->edge-rec==0.0.0) (1.9.4)\r\n",
      "Requirement already satisfied: multidict<7.0,>=4.5 in ./venv/lib/python3.9/site-packages (from aiohttp->torch_geometric->edge-rec==0.0.0) (6.0.5)\r\n",
      "Requirement already satisfied: frozenlist>=1.1.1 in ./venv/lib/python3.9/site-packages (from aiohttp->torch_geometric->edge-rec==0.0.0) (1.4.1)\r\n",
      "Requirement already satisfied: aiosignal>=1.1.2 in ./venv/lib/python3.9/site-packages (from aiohttp->torch_geometric->edge-rec==0.0.0) (1.3.1)\r\n",
      "Requirement already satisfied: async-timeout<5.0,>=4.0 in ./venv/lib/python3.9/site-packages (from aiohttp->torch_geometric->edge-rec==0.0.0) (4.0.3)\r\n",
      "Requirement already satisfied: attrs>=17.3.0 in ./venv/lib/python3.9/site-packages (from aiohttp->torch_geometric->edge-rec==0.0.0) (23.2.0)\r\n",
      "Requirement already satisfied: MarkupSafe>=2.0 in ./venv/lib/python3.9/site-packages (from jinja2->torch->edge-rec==0.0.0) (2.1.5)\r\n",
      "Requirement already satisfied: certifi>=2017.4.17 in ./venv/lib/python3.9/site-packages (from requests->torch_geometric->edge-rec==0.0.0) (2024.2.2)\r\n",
      "Requirement already satisfied: idna<4,>=2.5 in ./venv/lib/python3.9/site-packages (from requests->torch_geometric->edge-rec==0.0.0) (3.7)\r\n",
      "Requirement already satisfied: charset-normalizer<4,>=2 in ./venv/lib/python3.9/site-packages (from requests->torch_geometric->edge-rec==0.0.0) (3.3.2)\r\n",
      "Requirement already satisfied: urllib3<3,>=1.21.1 in ./venv/lib/python3.9/site-packages (from requests->torch_geometric->edge-rec==0.0.0) (2.2.1)\r\n",
      "Requirement already satisfied: mpmath>=0.19 in ./venv/lib/python3.9/site-packages (from sympy->torch->edge-rec==0.0.0) (1.3.0)\r\n",
      "Installing collected packages: edge-rec\r\n",
      "  Attempting uninstall: edge-rec\r\n",
      "    Found existing installation: edge-rec 0.0.0\r\n",
      "    Not uninstalling edge-rec at /Users/up/Desktop/CMU/Courses/10-708/project, outside environment /Users/up/Desktop/CMU/Courses/10-708/project/venv\r\n",
      "    Can't uninstall 'edge-rec'. No files were found to uninstall.\r\n",
      "  Running setup.py develop for edge-rec\r\n",
      "Successfully installed edge-rec-0.0.0\r\n",
      "\r\n",
      "\u001B[1m[\u001B[0m\u001B[34;49mnotice\u001B[0m\u001B[1;39;49m]\u001B[0m\u001B[39;49m A new release of pip available: \u001B[0m\u001B[31;49m22.3.1\u001B[0m\u001B[39;49m -> \u001B[0m\u001B[32;49m24.0\u001B[0m\r\n",
      "\u001B[1m[\u001B[0m\u001B[34;49mnotice\u001B[0m\u001B[1;39;49m]\u001B[0m\u001B[39;49m To update, run: \u001B[0m\u001B[32;49mpip install --upgrade pip\u001B[0m\r\n"
     ]
    }
   ],
   "source": [
    "!pip uninstall -y edge-rec\n",
    "!pip install -e ."
   ]
  },
  {
   "cell_type": "code",
   "execution_count": 2,
   "outputs": [
    {
     "name": "stderr",
     "output_type": "stream",
     "text": [
      "/Users/up/Desktop/CMU/Courses/10-708/project/venv/lib/python3.9/site-packages/accelerate/accelerator.py:436: FutureWarning: Passing the following arguments to `Accelerator` is deprecated and will be removed in version 1.0 of Accelerate: dict_keys(['split_batches']). Please pass an `accelerate.DataLoaderConfiguration` instead: \n",
      "dataloader_config = DataLoaderConfiguration(split_batches=True)\n",
      "  warnings.warn(\n",
      "Processing...\n",
      "Done!\n"
     ]
    },
    {
     "name": "stdout",
     "output_type": "stream",
     "text": [
      "./movie_lens/processed/data.pt\n"
     ]
    },
    {
     "data": {
      "text/plain": "  0%|          | 0/1000 [00:00<?, ?it/s]",
      "application/vnd.jupyter.widget-view+json": {
       "version_major": 2,
       "version_minor": 0,
       "model_id": "eb0f158cbc484039a13736b273d13f4d"
      }
     },
     "metadata": {},
     "output_type": "display_data"
    },
    {
     "ename": "TypeError",
     "evalue": "sample() got an unexpected keyword argument 'batch_size'",
     "output_type": "error",
     "traceback": [
      "\u001B[0;31m---------------------------------------------------------------------------\u001B[0m",
      "\u001B[0;31mTypeError\u001B[0m                                 Traceback (most recent call last)",
      "Cell \u001B[0;32mIn[2], line 9\u001B[0m\n\u001B[1;32m      6\u001B[0m diffusion_model \u001B[38;5;241m=\u001B[39m GaussianDiffusion(model, image_size\u001B[38;5;241m=\u001B[39m\u001B[38;5;241m10\u001B[39m)\n\u001B[1;32m      7\u001B[0m trainer \u001B[38;5;241m=\u001B[39m Trainer(diffusion_model, folder\u001B[38;5;241m=\u001B[39m\u001B[38;5;124m\"\u001B[39m\u001B[38;5;124m./movie_lens\u001B[39m\u001B[38;5;124m\"\u001B[39m, train_num_steps\u001B[38;5;241m=\u001B[39m\u001B[38;5;28mint\u001B[39m(\u001B[38;5;241m1000\u001B[39m))\n\u001B[0;32m----> 9\u001B[0m \u001B[43mtrainer\u001B[49m\u001B[38;5;241;43m.\u001B[39;49m\u001B[43mtrain\u001B[49m\u001B[43m(\u001B[49m\u001B[43m)\u001B[49m\n",
      "File \u001B[0;32m~/Desktop/CMU/Courses/10-708/project/edge_rec/gaussian_diffusion.py:650\u001B[0m, in \u001B[0;36mTrainer.train\u001B[0;34m(self)\u001B[0m\n\u001B[1;32m    648\u001B[0m     milestone \u001B[38;5;241m=\u001B[39m \u001B[38;5;28mself\u001B[39m\u001B[38;5;241m.\u001B[39mstep \u001B[38;5;241m/\u001B[39m\u001B[38;5;241m/\u001B[39m \u001B[38;5;28mself\u001B[39m\u001B[38;5;241m.\u001B[39msave_and_sample_every\n\u001B[1;32m    649\u001B[0m     batches \u001B[38;5;241m=\u001B[39m num_to_groups(\u001B[38;5;28mself\u001B[39m\u001B[38;5;241m.\u001B[39mnum_samples, \u001B[38;5;28mself\u001B[39m\u001B[38;5;241m.\u001B[39mbatch_size)\n\u001B[0;32m--> 650\u001B[0m     all_images_list \u001B[38;5;241m=\u001B[39m \u001B[38;5;28;43mlist\u001B[39;49m\u001B[43m(\u001B[49m\u001B[38;5;28;43mmap\u001B[39;49m\u001B[43m(\u001B[49m\u001B[38;5;28;43;01mlambda\u001B[39;49;00m\u001B[43m \u001B[49m\u001B[43mn\u001B[49m\u001B[43m:\u001B[49m\u001B[43m \u001B[49m\u001B[38;5;28;43mself\u001B[39;49m\u001B[38;5;241;43m.\u001B[39;49m\u001B[43mema\u001B[49m\u001B[38;5;241;43m.\u001B[39;49m\u001B[43mema_model\u001B[49m\u001B[38;5;241;43m.\u001B[39;49m\u001B[43msample\u001B[49m\u001B[43m(\u001B[49m\u001B[43mbatch_size\u001B[49m\u001B[38;5;241;43m=\u001B[39;49m\u001B[43mn\u001B[49m\u001B[43m)\u001B[49m\u001B[43m,\u001B[49m\u001B[43m \u001B[49m\u001B[43mbatches\u001B[49m\u001B[43m)\u001B[49m\u001B[43m)\u001B[49m\n\u001B[1;32m    652\u001B[0m all_images \u001B[38;5;241m=\u001B[39m torch\u001B[38;5;241m.\u001B[39mcat(all_images_list, dim\u001B[38;5;241m=\u001B[39m\u001B[38;5;241m0\u001B[39m)\n\u001B[1;32m    654\u001B[0m utils\u001B[38;5;241m.\u001B[39msave_image(all_images, \u001B[38;5;28mstr\u001B[39m(\u001B[38;5;28mself\u001B[39m\u001B[38;5;241m.\u001B[39mresults_folder \u001B[38;5;241m/\u001B[39m \u001B[38;5;124mf\u001B[39m\u001B[38;5;124m'\u001B[39m\u001B[38;5;124msample-\u001B[39m\u001B[38;5;132;01m{\u001B[39;00mmilestone\u001B[38;5;132;01m}\u001B[39;00m\u001B[38;5;124m.png\u001B[39m\u001B[38;5;124m'\u001B[39m),\n\u001B[1;32m    655\u001B[0m                  nrow\u001B[38;5;241m=\u001B[39m\u001B[38;5;28mint\u001B[39m(math\u001B[38;5;241m.\u001B[39msqrt(\u001B[38;5;28mself\u001B[39m\u001B[38;5;241m.\u001B[39mnum_samples)))\n",
      "File \u001B[0;32m~/Desktop/CMU/Courses/10-708/project/edge_rec/gaussian_diffusion.py:650\u001B[0m, in \u001B[0;36mTrainer.train.<locals>.<lambda>\u001B[0;34m(n)\u001B[0m\n\u001B[1;32m    648\u001B[0m     milestone \u001B[38;5;241m=\u001B[39m \u001B[38;5;28mself\u001B[39m\u001B[38;5;241m.\u001B[39mstep \u001B[38;5;241m/\u001B[39m\u001B[38;5;241m/\u001B[39m \u001B[38;5;28mself\u001B[39m\u001B[38;5;241m.\u001B[39msave_and_sample_every\n\u001B[1;32m    649\u001B[0m     batches \u001B[38;5;241m=\u001B[39m num_to_groups(\u001B[38;5;28mself\u001B[39m\u001B[38;5;241m.\u001B[39mnum_samples, \u001B[38;5;28mself\u001B[39m\u001B[38;5;241m.\u001B[39mbatch_size)\n\u001B[0;32m--> 650\u001B[0m     all_images_list \u001B[38;5;241m=\u001B[39m \u001B[38;5;28mlist\u001B[39m(\u001B[38;5;28mmap\u001B[39m(\u001B[38;5;28;01mlambda\u001B[39;00m n: \u001B[38;5;28;43mself\u001B[39;49m\u001B[38;5;241;43m.\u001B[39;49m\u001B[43mema\u001B[49m\u001B[38;5;241;43m.\u001B[39;49m\u001B[43mema_model\u001B[49m\u001B[38;5;241;43m.\u001B[39;49m\u001B[43msample\u001B[49m\u001B[43m(\u001B[49m\u001B[43mbatch_size\u001B[49m\u001B[38;5;241;43m=\u001B[39;49m\u001B[43mn\u001B[49m\u001B[43m)\u001B[49m, batches))\n\u001B[1;32m    652\u001B[0m all_images \u001B[38;5;241m=\u001B[39m torch\u001B[38;5;241m.\u001B[39mcat(all_images_list, dim\u001B[38;5;241m=\u001B[39m\u001B[38;5;241m0\u001B[39m)\n\u001B[1;32m    654\u001B[0m utils\u001B[38;5;241m.\u001B[39msave_image(all_images, \u001B[38;5;28mstr\u001B[39m(\u001B[38;5;28mself\u001B[39m\u001B[38;5;241m.\u001B[39mresults_folder \u001B[38;5;241m/\u001B[39m \u001B[38;5;124mf\u001B[39m\u001B[38;5;124m'\u001B[39m\u001B[38;5;124msample-\u001B[39m\u001B[38;5;132;01m{\u001B[39;00mmilestone\u001B[38;5;132;01m}\u001B[39;00m\u001B[38;5;124m.png\u001B[39m\u001B[38;5;124m'\u001B[39m),\n\u001B[1;32m    655\u001B[0m                  nrow\u001B[38;5;241m=\u001B[39m\u001B[38;5;28mint\u001B[39m(math\u001B[38;5;241m.\u001B[39msqrt(\u001B[38;5;28mself\u001B[39m\u001B[38;5;241m.\u001B[39mnum_samples)))\n",
      "File \u001B[0;32m~/Desktop/CMU/Courses/10-708/project/venv/lib/python3.9/site-packages/torch/utils/_contextlib.py:115\u001B[0m, in \u001B[0;36mcontext_decorator.<locals>.decorate_context\u001B[0;34m(*args, **kwargs)\u001B[0m\n\u001B[1;32m    112\u001B[0m \u001B[38;5;129m@functools\u001B[39m\u001B[38;5;241m.\u001B[39mwraps(func)\n\u001B[1;32m    113\u001B[0m \u001B[38;5;28;01mdef\u001B[39;00m \u001B[38;5;21mdecorate_context\u001B[39m(\u001B[38;5;241m*\u001B[39margs, \u001B[38;5;241m*\u001B[39m\u001B[38;5;241m*\u001B[39mkwargs):\n\u001B[1;32m    114\u001B[0m     \u001B[38;5;28;01mwith\u001B[39;00m ctx_factory():\n\u001B[0;32m--> 115\u001B[0m         \u001B[38;5;28;01mreturn\u001B[39;00m \u001B[43mfunc\u001B[49m\u001B[43m(\u001B[49m\u001B[38;5;241;43m*\u001B[39;49m\u001B[43margs\u001B[49m\u001B[43m,\u001B[49m\u001B[43m \u001B[49m\u001B[38;5;241;43m*\u001B[39;49m\u001B[38;5;241;43m*\u001B[39;49m\u001B[43mkwargs\u001B[49m\u001B[43m)\u001B[49m\n",
      "\u001B[0;31mTypeError\u001B[0m: sample() got an unexpected keyword argument 'batch_size'"
     ]
    }
   ],
   "source": [
    "from edge_rec.gaussian_diffusion import GaussianDiffusion, Trainer\n",
    "from edge_rec.model import GraphReconstructionModel\n",
    "\n",
    "model = GraphReconstructionModel.default()\n",
    "\n",
    "diffusion_model = GaussianDiffusion(model, image_size=10)\n",
    "trainer = Trainer(diffusion_model, folder=\"./movie_lens\", train_num_steps=int(1000))\n",
    "\n",
    "trainer.train()"
   ],
   "metadata": {
    "collapsed": false,
    "ExecuteTime": {
     "end_time": "2024-04-27T06:42:26.237456Z",
     "start_time": "2024-04-27T06:39:51.616472Z"
    }
   }
  }
 ],
 "metadata": {
  "kernelspec": {
   "display_name": "Python 3",
   "language": "python",
   "name": "python3"
  },
  "language_info": {
   "codemirror_mode": {
    "name": "ipython",
    "version": 2
   },
   "file_extension": ".py",
   "mimetype": "text/x-python",
   "name": "python",
   "nbconvert_exporter": "python",
   "pygments_lexer": "ipython2",
   "version": "2.7.6"
  }
 },
 "nbformat": 4,
 "nbformat_minor": 0
}
