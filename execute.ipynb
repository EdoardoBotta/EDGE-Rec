{
  "cells": [
    {
      "cell_type": "markdown",
      "metadata": {
        "id": "view-in-github",
        "colab_type": "text"
      },
      "source": [
        "<a href=\"https://colab.research.google.com/github/upriyam-cmu/EDGE-Rec/blob/main/execute.ipynb\" target=\"_parent\"><img src=\"https://colab.research.google.com/assets/colab-badge.svg\" alt=\"Open In Colab\"/></a>"
      ]
    },
    {
      "cell_type": "markdown",
      "source": [
        "# Install project code"
      ],
      "metadata": {
        "collapsed": false,
        "id": "9Q6JZwINFIas"
      }
    },
    {
      "cell_type": "code",
      "execution_count": null,
      "metadata": {
        "ExecuteTime": {
          "end_time": "2024-04-28T03:06:48.568821Z",
          "start_time": "2024-04-28T03:06:46.168172Z"
        },
        "collapsed": true,
        "id": "T8zKX7jqFIax"
      },
      "outputs": [],
      "source": [
        "!pip uninstall -y edge-rec\n",
        "!pip install -e."
      ]
    },
    {
      "cell_type": "markdown",
      "source": [
        "# Train model"
      ],
      "metadata": {
        "collapsed": false,
        "id": "YyB0la9eFIa2"
      }
    },
    {
      "cell_type": "code",
      "execution_count": null,
      "metadata": {
        "id": "qHy9cdt2FIa3"
      },
      "outputs": [],
      "source": [
        "from edge_rec.gaussian_diffusion import GaussianDiffusion, Trainer\n",
        "from edge_rec.model import GraphReconstructionModel\n",
        "\n",
        "model = GraphReconstructionModel.default()\n",
        "\n",
        "diffusion_model = GaussianDiffusion(model, image_size=50)\n",
        "trainer = Trainer(\n",
        "    diffusion_model, folder=\"./movie_lens\", train_num_steps=int(1e4),\n",
        "    use_alternate_dense_dataset=True, save_and_sample_every=200,\n",
        ")\n",
        "print(\"Using device:\", trainer.device)"
      ]
    },
    {
      "cell_type": "code",
      "execution_count": null,
      "outputs": [],
      "source": [
        "trainer.train()"
      ],
      "metadata": {
        "id": "9fJB149xFIa5"
      }
    },
    {
      "cell_type": "markdown",
      "source": [
        "# Sample ratings"
      ],
      "metadata": {
        "collapsed": false,
        "id": "d5_rCKjIFIa6"
      }
    },
    {
      "cell_type": "code",
      "execution_count": null,
      "outputs": [],
      "source": [
        "d70_subgraph, train_ratings, test_ratings = trainer.ds.dataset.get_subgraph(\n",
        "    subgraph_size=50,\n",
        "    target_density=0.7,\n",
        "    include_separate_train_test_ratings=True\n",
        ")[:-1]\n",
        "sampled_ratings = trainer.eval(full_graph=d70_subgraph, subgraph_size=50)[0, 0, :, :].cpu().detach()\n",
        "sampled_ratings = sampled_ratings * 2.5 + 3"
      ],
      "metadata": {
        "id": "YIsW331MFIa6"
      }
    },
    {
      "cell_type": "markdown",
      "source": [
        "# Evaluate metrics"
      ],
      "metadata": {
        "collapsed": false,
        "id": "uoaM5uiZFIa7"
      }
    },
    {
      "cell_type": "code",
      "execution_count": null,
      "outputs": [],
      "source": [
        "from edge_rec.evaluate import get_metrics\n",
        "import torch\n",
        "\n",
        "train_edges = train_ratings.long().to_sparse_coo()\n",
        "train_edges = torch.cat([\n",
        "    train_edges.indices(),\n",
        "    train_edges.values().unsqueeze(dim=0)\n",
        "], dim=0)\n",
        "test_edges = test_ratings.long().to_sparse_coo()\n",
        "test_edges = torch.cat([\n",
        "    test_edges.indices(),\n",
        "    test_edges.values().unsqueeze(dim=0)\n",
        "], dim=0)\n",
        "\n",
        "get_metrics(train_edges, test_edges, sampled_ratings)"
      ],
      "metadata": {
        "id": "QnuK0xdDFIa8"
      }
    },
    {
      "cell_type": "markdown",
      "source": [
        "# Display sampled ratings distribution"
      ],
      "metadata": {
        "collapsed": false,
        "id": "RpzXY9IfFIa-"
      }
    },
    {
      "cell_type": "code",
      "execution_count": null,
      "outputs": [],
      "source": [
        "import matplotlib.pyplot as plt\n",
        "\n",
        "plt.hist(sampled_ratings.numpy().flatten(), bins=5)\n",
        "plt.show()"
      ],
      "metadata": {
        "id": "37uiTgF2FIa_"
      }
    }
  ],
  "metadata": {
    "kernelspec": {
      "display_name": "Python 3",
      "language": "python",
      "name": "python3"
    },
    "language_info": {
      "codemirror_mode": {
        "name": "ipython",
        "version": 3
      },
      "file_extension": ".py",
      "mimetype": "text/x-python",
      "name": "python",
      "nbconvert_exporter": "python",
      "pygments_lexer": "ipython3",
      "version": "3.11.9"
    },
    "colab": {
      "provenance": [],
      "include_colab_link": true
    }
  },
  "nbformat": 4,
  "nbformat_minor": 0
}