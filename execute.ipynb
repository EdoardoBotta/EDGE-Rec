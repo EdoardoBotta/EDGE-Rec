{
 "cells": [
  {
   "cell_type": "code",
   "execution_count": null,
   "metadata": {
    "ExecuteTime": {
     "end_time": "2024-04-28T03:06:48.568821Z",
     "start_time": "2024-04-28T03:06:46.168172Z"
    },
    "collapsed": true
   },
   "outputs": [],
   "source": [
    "!pip uninstall -y edge-rec\n",
    "!pip install -e."
   ]
  },
  {
   "cell_type": "code",
   "execution_count": null,
   "metadata": {
    "ExecuteTime": {
     "end_time": "2024-04-28T06:04:18.445767Z",
     "start_time": "2024-04-28T06:04:15.980073Z"
    },
    "collapsed": false
   },
   "outputs": [],
   "source": [
    "from edge_rec.gaussian_diffusion import GaussianDiffusion, Trainer\n",
    "from edge_rec.model import GraphReconstructionModel\n",
    "\n",
    "model = GraphReconstructionModel.default()\n",
    "\n",
    "diffusion_model = GaussianDiffusion(model, image_size=128)\n",
    "trainer = Trainer(diffusion_model, folder=\"./movie_lens\", train_num_steps=int(1e4))\n",
    "print(\"Using device:\", trainer.device)"
   ]
  },
  {
   "cell_type": "code",
   "execution_count": null,
   "metadata": {
    "ExecuteTime": {
     "end_time": "2024-04-28T06:33:52.367323Z",
     "start_time": "2024-04-28T06:05:12.036627Z"
    },
    "collapsed": false
   },
   "outputs": [],
   "source": [
    "trainer.train()"
   ]
  }
 ],
 "metadata": {
  "kernelspec": {
   "display_name": "Python 3",
   "language": "python",
   "name": "python3"
  },
  "language_info": {
   "codemirror_mode": {
    "name": "ipython",
    "version": 3
   },
   "file_extension": ".py",
   "mimetype": "text/x-python",
   "name": "python",
   "nbconvert_exporter": "python",
   "pygments_lexer": "ipython3",
   "version": "3.11.9"
  }
 },
 "nbformat": 4,
 "nbformat_minor": 0
}
