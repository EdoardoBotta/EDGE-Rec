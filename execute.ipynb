{
 "cells": [
  {
   "cell_type": "code",
   "execution_count": 1,
   "metadata": {
    "ExecuteTime": {
     "end_time": "2024-04-27T07:03:23.935572Z",
     "start_time": "2024-04-27T07:03:21.849189Z"
    },
    "collapsed": true
   },
   "outputs": [
    {
     "name": "stdout",
     "output_type": "stream",
     "text": [
      "Found existing installation: edge-rec 0.0.0\n",
      "Uninstalling edge-rec-0.0.0:\n",
      "  Successfully uninstalled edge-rec-0.0.0\n",
      "Obtaining file:///home/hemit/Documents/pgm/project/10-708-Final-Project\n",
      "  Preparing metadata (setup.py) ... \u001b[?25ldone\n",
      "\u001b[?25hRequirement already satisfied: accelerate in /home/hemit/anaconda3/envs/edge/lib/python3.11/site-packages (from edge-rec==0.0.0) (0.29.3)\n",
      "Requirement already satisfied: einops in /home/hemit/anaconda3/envs/edge/lib/python3.11/site-packages (from edge-rec==0.0.0) (0.7.0)\n",
      "Requirement already satisfied: ema-pytorch>=0.4.2 in /home/hemit/anaconda3/envs/edge/lib/python3.11/site-packages (from edge-rec==0.0.0) (0.4.5)\n",
      "Requirement already satisfied: numpy in /home/hemit/anaconda3/envs/edge/lib/python3.11/site-packages (from edge-rec==0.0.0) (1.26.4)\n",
      "Requirement already satisfied: pillow in /home/hemit/anaconda3/envs/edge/lib/python3.11/site-packages (from edge-rec==0.0.0) (10.3.0)\n",
      "Requirement already satisfied: packaging in /home/hemit/anaconda3/envs/edge/lib/python3.11/site-packages (from edge-rec==0.0.0) (24.0)\n",
      "Requirement already satisfied: torch in /home/hemit/anaconda3/envs/edge/lib/python3.11/site-packages (from edge-rec==0.0.0) (2.3.0)\n",
      "Requirement already satisfied: torchvision in /home/hemit/anaconda3/envs/edge/lib/python3.11/site-packages (from edge-rec==0.0.0) (0.18.0)\n",
      "Requirement already satisfied: tqdm in /home/hemit/anaconda3/envs/edge/lib/python3.11/site-packages (from edge-rec==0.0.0) (4.66.2)\n",
      "Requirement already satisfied: torch_geometric in /home/hemit/anaconda3/envs/edge/lib/python3.11/site-packages (from edge-rec==0.0.0) (2.5.3)\n",
      "Requirement already satisfied: scikit-learn in /home/hemit/anaconda3/envs/edge/lib/python3.11/site-packages (from edge-rec==0.0.0) (1.4.2)\n",
      "Requirement already satisfied: pandas in /home/hemit/anaconda3/envs/edge/lib/python3.11/site-packages (from edge-rec==0.0.0) (2.2.2)\n",
      "Requirement already satisfied: beartype in /home/hemit/anaconda3/envs/edge/lib/python3.11/site-packages (from ema-pytorch>=0.4.2->edge-rec==0.0.0) (0.18.5)\n",
      "Requirement already satisfied: filelock in /home/hemit/anaconda3/envs/edge/lib/python3.11/site-packages (from torch->edge-rec==0.0.0) (3.13.4)\n",
      "Requirement already satisfied: typing-extensions>=4.8.0 in /home/hemit/anaconda3/envs/edge/lib/python3.11/site-packages (from torch->edge-rec==0.0.0) (4.11.0)\n",
      "Requirement already satisfied: sympy in /home/hemit/anaconda3/envs/edge/lib/python3.11/site-packages (from torch->edge-rec==0.0.0) (1.12)\n",
      "Requirement already satisfied: networkx in /home/hemit/anaconda3/envs/edge/lib/python3.11/site-packages (from torch->edge-rec==0.0.0) (3.3)\n",
      "Requirement already satisfied: jinja2 in /home/hemit/anaconda3/envs/edge/lib/python3.11/site-packages (from torch->edge-rec==0.0.0) (3.1.3)\n",
      "Requirement already satisfied: fsspec in /home/hemit/anaconda3/envs/edge/lib/python3.11/site-packages (from torch->edge-rec==0.0.0) (2024.3.1)\n",
      "Requirement already satisfied: nvidia-cuda-nvrtc-cu12==12.1.105 in /home/hemit/anaconda3/envs/edge/lib/python3.11/site-packages (from torch->edge-rec==0.0.0) (12.1.105)\n",
      "Requirement already satisfied: nvidia-cuda-runtime-cu12==12.1.105 in /home/hemit/anaconda3/envs/edge/lib/python3.11/site-packages (from torch->edge-rec==0.0.0) (12.1.105)\n",
      "Requirement already satisfied: nvidia-cuda-cupti-cu12==12.1.105 in /home/hemit/anaconda3/envs/edge/lib/python3.11/site-packages (from torch->edge-rec==0.0.0) (12.1.105)\n",
      "Requirement already satisfied: nvidia-cudnn-cu12==8.9.2.26 in /home/hemit/anaconda3/envs/edge/lib/python3.11/site-packages (from torch->edge-rec==0.0.0) (8.9.2.26)\n",
      "Requirement already satisfied: nvidia-cublas-cu12==12.1.3.1 in /home/hemit/anaconda3/envs/edge/lib/python3.11/site-packages (from torch->edge-rec==0.0.0) (12.1.3.1)\n",
      "Requirement already satisfied: nvidia-cufft-cu12==11.0.2.54 in /home/hemit/anaconda3/envs/edge/lib/python3.11/site-packages (from torch->edge-rec==0.0.0) (11.0.2.54)\n",
      "Requirement already satisfied: nvidia-curand-cu12==10.3.2.106 in /home/hemit/anaconda3/envs/edge/lib/python3.11/site-packages (from torch->edge-rec==0.0.0) (10.3.2.106)\n",
      "Requirement already satisfied: nvidia-cusolver-cu12==11.4.5.107 in /home/hemit/anaconda3/envs/edge/lib/python3.11/site-packages (from torch->edge-rec==0.0.0) (11.4.5.107)\n",
      "Requirement already satisfied: nvidia-cusparse-cu12==12.1.0.106 in /home/hemit/anaconda3/envs/edge/lib/python3.11/site-packages (from torch->edge-rec==0.0.0) (12.1.0.106)\n",
      "Requirement already satisfied: nvidia-nccl-cu12==2.20.5 in /home/hemit/anaconda3/envs/edge/lib/python3.11/site-packages (from torch->edge-rec==0.0.0) (2.20.5)\n",
      "Requirement already satisfied: nvidia-nvtx-cu12==12.1.105 in /home/hemit/anaconda3/envs/edge/lib/python3.11/site-packages (from torch->edge-rec==0.0.0) (12.1.105)\n",
      "Requirement already satisfied: triton==2.3.0 in /home/hemit/anaconda3/envs/edge/lib/python3.11/site-packages (from torch->edge-rec==0.0.0) (2.3.0)\n",
      "Requirement already satisfied: nvidia-nvjitlink-cu12 in /home/hemit/anaconda3/envs/edge/lib/python3.11/site-packages (from nvidia-cusolver-cu12==11.4.5.107->torch->edge-rec==0.0.0) (12.4.127)\n",
      "Requirement already satisfied: psutil in /home/hemit/anaconda3/envs/edge/lib/python3.11/site-packages (from accelerate->edge-rec==0.0.0) (5.9.8)\n",
      "Requirement already satisfied: pyyaml in /home/hemit/anaconda3/envs/edge/lib/python3.11/site-packages (from accelerate->edge-rec==0.0.0) (6.0.1)\n",
      "Requirement already satisfied: huggingface-hub in /home/hemit/anaconda3/envs/edge/lib/python3.11/site-packages (from accelerate->edge-rec==0.0.0) (0.22.2)\n",
      "Requirement already satisfied: safetensors>=0.3.1 in /home/hemit/anaconda3/envs/edge/lib/python3.11/site-packages (from accelerate->edge-rec==0.0.0) (0.4.3)\n",
      "Requirement already satisfied: python-dateutil>=2.8.2 in /home/hemit/anaconda3/envs/edge/lib/python3.11/site-packages (from pandas->edge-rec==0.0.0) (2.9.0)\n",
      "Requirement already satisfied: pytz>=2020.1 in /home/hemit/anaconda3/envs/edge/lib/python3.11/site-packages (from pandas->edge-rec==0.0.0) (2024.1)\n",
      "Requirement already satisfied: tzdata>=2022.7 in /home/hemit/anaconda3/envs/edge/lib/python3.11/site-packages (from pandas->edge-rec==0.0.0) (2024.1)\n",
      "Requirement already satisfied: scipy>=1.6.0 in /home/hemit/anaconda3/envs/edge/lib/python3.11/site-packages (from scikit-learn->edge-rec==0.0.0) (1.13.0)\n",
      "Requirement already satisfied: joblib>=1.2.0 in /home/hemit/anaconda3/envs/edge/lib/python3.11/site-packages (from scikit-learn->edge-rec==0.0.0) (1.4.0)\n",
      "Requirement already satisfied: threadpoolctl>=2.0.0 in /home/hemit/anaconda3/envs/edge/lib/python3.11/site-packages (from scikit-learn->edge-rec==0.0.0) (3.4.0)\n",
      "Requirement already satisfied: aiohttp in /home/hemit/anaconda3/envs/edge/lib/python3.11/site-packages (from torch_geometric->edge-rec==0.0.0) (3.9.5)\n",
      "Requirement already satisfied: requests in /home/hemit/anaconda3/envs/edge/lib/python3.11/site-packages (from torch_geometric->edge-rec==0.0.0) (2.31.0)\n",
      "Requirement already satisfied: pyparsing in /home/hemit/anaconda3/envs/edge/lib/python3.11/site-packages (from torch_geometric->edge-rec==0.0.0) (3.1.2)\n",
      "Requirement already satisfied: six>=1.5 in /home/hemit/anaconda3/envs/edge/lib/python3.11/site-packages (from python-dateutil>=2.8.2->pandas->edge-rec==0.0.0) (1.16.0)\n",
      "Requirement already satisfied: aiosignal>=1.1.2 in /home/hemit/anaconda3/envs/edge/lib/python3.11/site-packages (from aiohttp->torch_geometric->edge-rec==0.0.0) (1.3.1)\n",
      "Requirement already satisfied: attrs>=17.3.0 in /home/hemit/anaconda3/envs/edge/lib/python3.11/site-packages (from aiohttp->torch_geometric->edge-rec==0.0.0) (23.2.0)\n",
      "Requirement already satisfied: frozenlist>=1.1.1 in /home/hemit/anaconda3/envs/edge/lib/python3.11/site-packages (from aiohttp->torch_geometric->edge-rec==0.0.0) (1.4.1)\n",
      "Requirement already satisfied: multidict<7.0,>=4.5 in /home/hemit/anaconda3/envs/edge/lib/python3.11/site-packages (from aiohttp->torch_geometric->edge-rec==0.0.0) (6.0.5)\n",
      "Requirement already satisfied: yarl<2.0,>=1.0 in /home/hemit/anaconda3/envs/edge/lib/python3.11/site-packages (from aiohttp->torch_geometric->edge-rec==0.0.0) (1.9.4)\n",
      "Requirement already satisfied: MarkupSafe>=2.0 in /home/hemit/anaconda3/envs/edge/lib/python3.11/site-packages (from jinja2->torch->edge-rec==0.0.0) (2.1.5)\n",
      "Requirement already satisfied: charset-normalizer<4,>=2 in /home/hemit/anaconda3/envs/edge/lib/python3.11/site-packages (from requests->torch_geometric->edge-rec==0.0.0) (3.3.2)\n",
      "Requirement already satisfied: idna<4,>=2.5 in /home/hemit/anaconda3/envs/edge/lib/python3.11/site-packages (from requests->torch_geometric->edge-rec==0.0.0) (3.7)\n",
      "Requirement already satisfied: urllib3<3,>=1.21.1 in /home/hemit/anaconda3/envs/edge/lib/python3.11/site-packages (from requests->torch_geometric->edge-rec==0.0.0) (2.2.1)\n",
      "Requirement already satisfied: certifi>=2017.4.17 in /home/hemit/anaconda3/envs/edge/lib/python3.11/site-packages (from requests->torch_geometric->edge-rec==0.0.0) (2024.2.2)\n",
      "Requirement already satisfied: mpmath>=0.19 in /home/hemit/anaconda3/envs/edge/lib/python3.11/site-packages (from sympy->torch->edge-rec==0.0.0) (1.3.0)\n",
      "Installing collected packages: edge-rec\n",
      "  Running setup.py develop for edge-rec\n",
      "Successfully installed edge-rec-0.0.0\n"
     ]
    }
   ],
   "source": [
    "!pip uninstall -y edge-rec\n",
    "!pip install -e ."
   ]
  },
  {
   "cell_type": "code",
   "execution_count": 1,
   "metadata": {
    "ExecuteTime": {
     "end_time": "2024-04-27T07:12:24.921860Z",
     "start_time": "2024-04-27T07:12:19.194115Z"
    },
    "collapsed": false
   },
   "outputs": [
    {
     "name": "stderr",
     "output_type": "stream",
     "text": [
      "/home/hemit/anaconda3/envs/edge/lib/python3.11/site-packages/tqdm/auto.py:21: TqdmWarning: IProgress not found. Please update jupyter and ipywidgets. See https://ipywidgets.readthedocs.io/en/stable/user_install.html\n",
      "  from .autonotebook import tqdm as notebook_tqdm\n",
      "/home/hemit/anaconda3/envs/edge/lib/python3.11/site-packages/accelerate/accelerator.py:436: FutureWarning: Passing the following arguments to `Accelerator` is deprecated and will be removed in version 1.0 of Accelerate: dict_keys(['split_batches']). Please pass an `accelerate.DataLoaderConfiguration` instead: \n",
      "dataloader_config = DataLoaderConfiguration(split_batches=True)\n",
      "  warnings.warn(\n",
      "Processing...\n",
      "Done!\n"
     ]
    },
    {
     "name": "stdout",
     "output_type": "stream",
     "text": [
      "./movie_lens/processed/data.pt\n",
      "Using device: cuda\n"
     ]
    }
   ],
   "source": [
    "from edge_rec.gaussian_diffusion import GaussianDiffusion, Trainer\n",
    "from edge_rec.model import GraphReconstructionModel\n",
    "\n",
    "model = GraphReconstructionModel.default()\n",
    "\n",
    "diffusion_model = GaussianDiffusion(model, image_size=10)\n",
    "trainer = Trainer(diffusion_model, folder=\"./movie_lens\", train_num_steps=int(1e4))\n",
    "print(\"Using device:\", trainer.device)"
   ]
  },
  {
   "cell_type": "code",
   "execution_count": 3,
   "metadata": {
    "ExecuteTime": {
     "start_time": "2024-04-27T07:12:24.923558Z"
    },
    "collapsed": false,
    "is_executing": true
   },
   "outputs": [
    {
     "name": "stderr",
     "output_type": "stream",
     "text": [
      " 10%|█         | 1000/10000 [00:00<?, ?it/s]\n"
     ]
    },
    {
     "ename": "RuntimeError",
     "evalue": "CUDA error: device-side assert triggered\nCUDA kernel errors might be asynchronously reported at some other API call, so the stacktrace below might be incorrect.\nFor debugging consider passing CUDA_LAUNCH_BLOCKING=1.\nCompile with `TORCH_USE_CUDA_DSA` to enable device-side assertions.\n",
     "output_type": "error",
     "traceback": [
      "\u001b[0;31m---------------------------------------------------------------------------\u001b[0m",
      "\u001b[0;31mRuntimeError\u001b[0m                              Traceback (most recent call last)",
      "Cell \u001b[0;32mIn[3], line 1\u001b[0m\n\u001b[0;32m----> 1\u001b[0m \u001b[43mtrainer\u001b[49m\u001b[38;5;241;43m.\u001b[39;49m\u001b[43mtrain\u001b[49m\u001b[43m(\u001b[49m\u001b[43m)\u001b[49m\n",
      "File \u001b[0;32m~/Documents/pgm/project/10-708-Final-Project/edge_rec/gaussian_diffusion.py:625\u001b[0m, in \u001b[0;36mTrainer.train\u001b[0;34m(self)\u001b[0m\n\u001b[1;32m    622\u001b[0m total_loss \u001b[38;5;241m=\u001b[39m \u001b[38;5;241m0.\u001b[39m\n\u001b[1;32m    624\u001b[0m \u001b[38;5;28;01mfor\u001b[39;00m _ \u001b[38;5;129;01min\u001b[39;00m \u001b[38;5;28mrange\u001b[39m(\u001b[38;5;28mself\u001b[39m\u001b[38;5;241m.\u001b[39mgradient_accumulate_every):\n\u001b[0;32m--> 625\u001b[0m     data, edge_mask \u001b[38;5;241m=\u001b[39m \u001b[38;5;28mnext\u001b[39m(\u001b[38;5;28mself\u001b[39m\u001b[38;5;241m.\u001b[39mdl)\n\u001b[1;32m    626\u001b[0m     data \u001b[38;5;241m=\u001b[39m data\u001b[38;5;241m.\u001b[39mto(device)\n\u001b[1;32m    627\u001b[0m     edge_mask \u001b[38;5;241m=\u001b[39m edge_mask\u001b[38;5;241m.\u001b[39mto(device)\n",
      "File \u001b[0;32m~/Documents/pgm/project/10-708-Final-Project/edge_rec/gaussian_diffusion.py:64\u001b[0m, in \u001b[0;36mcycle\u001b[0;34m(dl)\u001b[0m\n\u001b[1;32m     62\u001b[0m \u001b[38;5;28;01mdef\u001b[39;00m \u001b[38;5;21mcycle\u001b[39m(dl):\n\u001b[1;32m     63\u001b[0m     \u001b[38;5;28;01mwhile\u001b[39;00m \u001b[38;5;28;01mTrue\u001b[39;00m:\n\u001b[0;32m---> 64\u001b[0m \u001b[43m        \u001b[49m\u001b[38;5;28;43;01mfor\u001b[39;49;00m\u001b[43m \u001b[49m\u001b[43m(\u001b[49m\u001b[43mdata\u001b[49m\u001b[43m,\u001b[49m\u001b[43m \u001b[49m\u001b[43mmask\u001b[49m\u001b[43m)\u001b[49m\u001b[43m \u001b[49m\u001b[38;5;129;43;01min\u001b[39;49;00m\u001b[43m \u001b[49m\u001b[43mdl\u001b[49m\u001b[43m:\u001b[49m\n\u001b[1;32m     65\u001b[0m \u001b[43m            \u001b[49m\u001b[38;5;28;43;01myield\u001b[39;49;00m\u001b[43m \u001b[49m\u001b[43m(\u001b[49m\u001b[43mdata\u001b[49m\u001b[43m,\u001b[49m\u001b[43m \u001b[49m\u001b[43mmask\u001b[49m\u001b[43m)\u001b[49m\n",
      "File \u001b[0;32m~/anaconda3/envs/edge/lib/python3.11/site-packages/accelerate/data_loader.py:461\u001b[0m, in \u001b[0;36mDataLoaderShard.__iter__\u001b[0;34m(self)\u001b[0m\n\u001b[1;32m    458\u001b[0m \u001b[38;5;28;01mtry\u001b[39;00m:\n\u001b[1;32m    459\u001b[0m     \u001b[38;5;66;03m# But we still move it to the device so it is done before `StopIteration` is reached\u001b[39;00m\n\u001b[1;32m    460\u001b[0m     \u001b[38;5;28;01mif\u001b[39;00m \u001b[38;5;28mself\u001b[39m\u001b[38;5;241m.\u001b[39mdevice \u001b[38;5;129;01mis\u001b[39;00m \u001b[38;5;129;01mnot\u001b[39;00m \u001b[38;5;28;01mNone\u001b[39;00m:\n\u001b[0;32m--> 461\u001b[0m         current_batch \u001b[38;5;241m=\u001b[39m \u001b[43msend_to_device\u001b[49m\u001b[43m(\u001b[49m\u001b[43mcurrent_batch\u001b[49m\u001b[43m,\u001b[49m\u001b[43m \u001b[49m\u001b[38;5;28;43mself\u001b[39;49m\u001b[38;5;241;43m.\u001b[39;49m\u001b[43mdevice\u001b[49m\u001b[43m)\u001b[49m\n\u001b[1;32m    462\u001b[0m     next_batch \u001b[38;5;241m=\u001b[39m \u001b[38;5;28mnext\u001b[39m(dataloader_iter)\n\u001b[1;32m    463\u001b[0m     \u001b[38;5;28;01mif\u001b[39;00m batch_index \u001b[38;5;241m>\u001b[39m\u001b[38;5;241m=\u001b[39m \u001b[38;5;28mself\u001b[39m\u001b[38;5;241m.\u001b[39mskip_batches:\n",
      "File \u001b[0;32m~/anaconda3/envs/edge/lib/python3.11/site-packages/accelerate/utils/operations.py:180\u001b[0m, in \u001b[0;36msend_to_device\u001b[0;34m(tensor, device, non_blocking, skip_keys)\u001b[0m\n\u001b[1;32m    178\u001b[0m         \u001b[38;5;28;01mreturn\u001b[39;00m tensor\u001b[38;5;241m.\u001b[39mto(device)\n\u001b[1;32m    179\u001b[0m \u001b[38;5;28;01melif\u001b[39;00m \u001b[38;5;28misinstance\u001b[39m(tensor, (\u001b[38;5;28mtuple\u001b[39m, \u001b[38;5;28mlist\u001b[39m)):\n\u001b[0;32m--> 180\u001b[0m     \u001b[38;5;28;01mreturn\u001b[39;00m \u001b[43mhonor_type\u001b[49m\u001b[43m(\u001b[49m\n\u001b[1;32m    181\u001b[0m \u001b[43m        \u001b[49m\u001b[43mtensor\u001b[49m\u001b[43m,\u001b[49m\u001b[43m \u001b[49m\u001b[43m(\u001b[49m\u001b[43msend_to_device\u001b[49m\u001b[43m(\u001b[49m\u001b[43mt\u001b[49m\u001b[43m,\u001b[49m\u001b[43m \u001b[49m\u001b[43mdevice\u001b[49m\u001b[43m,\u001b[49m\u001b[43m \u001b[49m\u001b[43mnon_blocking\u001b[49m\u001b[38;5;241;43m=\u001b[39;49m\u001b[43mnon_blocking\u001b[49m\u001b[43m,\u001b[49m\u001b[43m \u001b[49m\u001b[43mskip_keys\u001b[49m\u001b[38;5;241;43m=\u001b[39;49m\u001b[43mskip_keys\u001b[49m\u001b[43m)\u001b[49m\u001b[43m \u001b[49m\u001b[38;5;28;43;01mfor\u001b[39;49;00m\u001b[43m \u001b[49m\u001b[43mt\u001b[49m\u001b[43m \u001b[49m\u001b[38;5;129;43;01min\u001b[39;49;00m\u001b[43m \u001b[49m\u001b[43mtensor\u001b[49m\u001b[43m)\u001b[49m\n\u001b[1;32m    182\u001b[0m \u001b[43m    \u001b[49m\u001b[43m)\u001b[49m\n\u001b[1;32m    183\u001b[0m \u001b[38;5;28;01melif\u001b[39;00m \u001b[38;5;28misinstance\u001b[39m(tensor, Mapping):\n\u001b[1;32m    184\u001b[0m     \u001b[38;5;28;01mif\u001b[39;00m \u001b[38;5;28misinstance\u001b[39m(skip_keys, \u001b[38;5;28mstr\u001b[39m):\n",
      "File \u001b[0;32m~/anaconda3/envs/edge/lib/python3.11/site-packages/accelerate/utils/operations.py:81\u001b[0m, in \u001b[0;36mhonor_type\u001b[0;34m(obj, generator)\u001b[0m\n\u001b[1;32m     79\u001b[0m     \u001b[38;5;28;01mreturn\u001b[39;00m \u001b[38;5;28mtype\u001b[39m(obj)(\u001b[38;5;241m*\u001b[39m\u001b[38;5;28mlist\u001b[39m(generator))\n\u001b[1;32m     80\u001b[0m \u001b[38;5;28;01melse\u001b[39;00m:\n\u001b[0;32m---> 81\u001b[0m     \u001b[38;5;28;01mreturn\u001b[39;00m \u001b[38;5;28mtype\u001b[39m(obj)(generator)\n",
      "File \u001b[0;32m~/anaconda3/envs/edge/lib/python3.11/site-packages/accelerate/utils/operations.py:181\u001b[0m, in \u001b[0;36m<genexpr>\u001b[0;34m(.0)\u001b[0m\n\u001b[1;32m    178\u001b[0m         \u001b[38;5;28;01mreturn\u001b[39;00m tensor\u001b[38;5;241m.\u001b[39mto(device)\n\u001b[1;32m    179\u001b[0m \u001b[38;5;28;01melif\u001b[39;00m \u001b[38;5;28misinstance\u001b[39m(tensor, (\u001b[38;5;28mtuple\u001b[39m, \u001b[38;5;28mlist\u001b[39m)):\n\u001b[1;32m    180\u001b[0m     \u001b[38;5;28;01mreturn\u001b[39;00m honor_type(\n\u001b[0;32m--> 181\u001b[0m         tensor, (\u001b[43msend_to_device\u001b[49m\u001b[43m(\u001b[49m\u001b[43mt\u001b[49m\u001b[43m,\u001b[49m\u001b[43m \u001b[49m\u001b[43mdevice\u001b[49m\u001b[43m,\u001b[49m\u001b[43m \u001b[49m\u001b[43mnon_blocking\u001b[49m\u001b[38;5;241;43m=\u001b[39;49m\u001b[43mnon_blocking\u001b[49m\u001b[43m,\u001b[49m\u001b[43m \u001b[49m\u001b[43mskip_keys\u001b[49m\u001b[38;5;241;43m=\u001b[39;49m\u001b[43mskip_keys\u001b[49m\u001b[43m)\u001b[49m \u001b[38;5;28;01mfor\u001b[39;00m t \u001b[38;5;129;01min\u001b[39;00m tensor)\n\u001b[1;32m    182\u001b[0m     )\n\u001b[1;32m    183\u001b[0m \u001b[38;5;28;01melif\u001b[39;00m \u001b[38;5;28misinstance\u001b[39m(tensor, Mapping):\n\u001b[1;32m    184\u001b[0m     \u001b[38;5;28;01mif\u001b[39;00m \u001b[38;5;28misinstance\u001b[39m(skip_keys, \u001b[38;5;28mstr\u001b[39m):\n",
      "File \u001b[0;32m~/anaconda3/envs/edge/lib/python3.11/site-packages/accelerate/utils/operations.py:174\u001b[0m, in \u001b[0;36msend_to_device\u001b[0;34m(tensor, device, non_blocking, skip_keys)\u001b[0m\n\u001b[1;32m    172\u001b[0m             device \u001b[38;5;241m=\u001b[39m \u001b[38;5;124mf\u001b[39m\u001b[38;5;124m\"\u001b[39m\u001b[38;5;124mxpu:\u001b[39m\u001b[38;5;132;01m{\u001b[39;00mdevice\u001b[38;5;132;01m}\u001b[39;00m\u001b[38;5;124m\"\u001b[39m\n\u001b[1;32m    173\u001b[0m     \u001b[38;5;28;01melse\u001b[39;00m:\n\u001b[0;32m--> 174\u001b[0m         \u001b[38;5;28;01mraise\u001b[39;00m error\n\u001b[1;32m    175\u001b[0m \u001b[38;5;28;01mtry\u001b[39;00m:\n\u001b[1;32m    176\u001b[0m     \u001b[38;5;28;01mreturn\u001b[39;00m tensor\u001b[38;5;241m.\u001b[39mto(device, non_blocking\u001b[38;5;241m=\u001b[39mnon_blocking)\n",
      "File \u001b[0;32m~/anaconda3/envs/edge/lib/python3.11/site-packages/accelerate/utils/operations.py:158\u001b[0m, in \u001b[0;36msend_to_device\u001b[0;34m(tensor, device, non_blocking, skip_keys)\u001b[0m\n\u001b[1;32m    156\u001b[0m     tensor \u001b[38;5;241m=\u001b[39m tensor\u001b[38;5;241m.\u001b[39mcpu()\n\u001b[1;32m    157\u001b[0m \u001b[38;5;28;01mtry\u001b[39;00m:\n\u001b[0;32m--> 158\u001b[0m     \u001b[38;5;28;01mreturn\u001b[39;00m \u001b[43mtensor\u001b[49m\u001b[38;5;241;43m.\u001b[39;49m\u001b[43mto\u001b[49m\u001b[43m(\u001b[49m\u001b[43mdevice\u001b[49m\u001b[43m,\u001b[49m\u001b[43m \u001b[49m\u001b[43mnon_blocking\u001b[49m\u001b[38;5;241;43m=\u001b[39;49m\u001b[43mnon_blocking\u001b[49m\u001b[43m)\u001b[49m\n\u001b[1;32m    159\u001b[0m \u001b[38;5;28;01mexcept\u001b[39;00m \u001b[38;5;167;01mTypeError\u001b[39;00m:  \u001b[38;5;66;03m# .to() doesn't accept non_blocking as kwarg\u001b[39;00m\n\u001b[1;32m    160\u001b[0m     \u001b[38;5;28;01mreturn\u001b[39;00m tensor\u001b[38;5;241m.\u001b[39mto(device)\n",
      "\u001b[0;31mRuntimeError\u001b[0m: CUDA error: device-side assert triggered\nCUDA kernel errors might be asynchronously reported at some other API call, so the stacktrace below might be incorrect.\nFor debugging consider passing CUDA_LAUNCH_BLOCKING=1.\nCompile with `TORCH_USE_CUDA_DSA` to enable device-side assertions.\n"
     ]
    }
   ],
   "source": [
    "trainer.train()"
   ]
  }
 ],
 "metadata": {
  "kernelspec": {
   "display_name": "Python 3",
   "language": "python",
   "name": "python3"
  },
  "language_info": {
   "codemirror_mode": {
    "name": "ipython",
    "version": 3
   },
   "file_extension": ".py",
   "mimetype": "text/x-python",
   "name": "python",
   "nbconvert_exporter": "python",
   "pygments_lexer": "ipython3",
   "version": "3.11.9"
  }
 },
 "nbformat": 4,
 "nbformat_minor": 0
}
